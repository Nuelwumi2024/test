{
 "cells": [
  {
   "cell_type": "code",
   "execution_count": 1,
   "metadata": {},
   "outputs": [
    {
     "name": "stdout",
     "output_type": "stream",
     "text": [
      "55\n"
     ]
    }
   ],
   "source": [
    "# sum of the first ten positive integers\n",
    "totalsum = sum(range(1,11))\n",
    "print(totalsum)\n"
   ]
  },
  {
   "cell_type": "code",
   "execution_count": 2,
   "metadata": {},
   "outputs": [
    {
     "name": "stdout",
     "output_type": "stream",
     "text": [
      "15\n",
      "30\n"
     ]
    }
   ],
   "source": [
    "# area and perimeter of a rectangle\n",
    "length = 5\n",
    "width = 3\n",
    "area = length * width\n",
    "perimeter = 2*(length*width)\n",
    "print(area)\n",
    "print(perimeter)"
   ]
  },
  {
   "cell_type": "code",
   "execution_count": 3,
   "metadata": {},
   "outputs": [
    {
     "name": "stdout",
     "output_type": "stream",
     "text": [
      "('variable names must start with a letter or underscore.', 'variable names can only contain letters,numbers and underscores.', 'variable names are case-sensitive.', 'variable names should not be python keywords.')\n"
     ]
    }
   ],
   "source": [
    "# data structure - tuples with rules for variable naming\n",
    "rules = (\"variable names must start with a letter or underscore.\", \"variable names can only contain letters,numbers and underscores.\",\"variable names are case-sensitive.\",\"variable names should not be python keywords.\")\n",
    "print(rules)\n",
    "\n"
   ]
  },
  {
   "cell_type": "code",
   "execution_count": 8,
   "metadata": {},
   "outputs": [
    {
     "name": "stdout",
     "output_type": "stream",
     "text": [
      "{'Japan: Tokyo', 'France: Paris', 'Nigeria: Abuja'}\n"
     ]
    }
   ],
   "source": [
    "#dictionary with country capitals\n",
    "countries_capitals = {\"Nigeria: Abuja\",\"France: Paris\", \"Japan: Tokyo\"}\n",
    "print(countries_capitals)"
   ]
  },
  {
   "cell_type": "code",
   "execution_count": null,
   "metadata": {},
   "outputs": [],
   "source": []
  },
  {
   "cell_type": "code",
   "execution_count": null,
   "metadata": {},
   "outputs": [],
   "source": []
  },
  {
   "cell_type": "code",
   "execution_count": null,
   "metadata": {},
   "outputs": [],
   "source": []
  }
 ],
 "metadata": {
  "kernelspec": {
   "display_name": "Python 3",
   "language": "python",
   "name": "python3"
  },
  "language_info": {
   "codemirror_mode": {
    "name": "ipython",
    "version": 3
   },
   "file_extension": ".py",
   "mimetype": "text/x-python",
   "name": "python",
   "nbconvert_exporter": "python",
   "pygments_lexer": "ipython3",
   "version": "3.12.4"
  }
 },
 "nbformat": 4,
 "nbformat_minor": 2
}
